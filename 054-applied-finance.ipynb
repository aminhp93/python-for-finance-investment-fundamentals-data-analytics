{
 "cells": [
  {
   "cell_type": "code",
   "execution_count": 9,
   "metadata": {},
   "outputs": [],
   "source": [
    "import numpy as np\n",
    "import pandas_datareader as wb\n",
    "import matplotlib.pyplot as plt"
   ]
  },
  {
   "cell_type": "code",
   "execution_count": 11,
   "metadata": {},
   "outputs": [],
   "source": [
    "PG = wb.DataReader('PG', data_source='yahoo', start='1995-1-1')"
   ]
  },
  {
   "cell_type": "code",
   "execution_count": 12,
   "metadata": {},
   "outputs": [
    {
     "data": {
      "text/html": [
       "<div>\n",
       "<style scoped>\n",
       "    .dataframe tbody tr th:only-of-type {\n",
       "        vertical-align: middle;\n",
       "    }\n",
       "\n",
       "    .dataframe tbody tr th {\n",
       "        vertical-align: top;\n",
       "    }\n",
       "\n",
       "    .dataframe thead th {\n",
       "        text-align: right;\n",
       "    }\n",
       "</style>\n",
       "<table border=\"1\" class=\"dataframe\">\n",
       "  <thead>\n",
       "    <tr style=\"text-align: right;\">\n",
       "      <th></th>\n",
       "      <th>High</th>\n",
       "      <th>Low</th>\n",
       "      <th>Open</th>\n",
       "      <th>Close</th>\n",
       "      <th>Volume</th>\n",
       "      <th>Adj Close</th>\n",
       "    </tr>\n",
       "    <tr>\n",
       "      <th>Date</th>\n",
       "      <th></th>\n",
       "      <th></th>\n",
       "      <th></th>\n",
       "      <th></th>\n",
       "      <th></th>\n",
       "      <th></th>\n",
       "    </tr>\n",
       "  </thead>\n",
       "  <tbody>\n",
       "    <tr>\n",
       "      <th>1995-01-03</th>\n",
       "      <td>15.62500</td>\n",
       "      <td>15.43750</td>\n",
       "      <td>15.46875</td>\n",
       "      <td>15.59375</td>\n",
       "      <td>3318400.0</td>\n",
       "      <td>6.528542</td>\n",
       "    </tr>\n",
       "    <tr>\n",
       "      <th>1995-01-04</th>\n",
       "      <td>15.65625</td>\n",
       "      <td>15.31250</td>\n",
       "      <td>15.53125</td>\n",
       "      <td>15.46875</td>\n",
       "      <td>2218800.0</td>\n",
       "      <td>6.476213</td>\n",
       "    </tr>\n",
       "    <tr>\n",
       "      <th>1995-01-05</th>\n",
       "      <td>15.43750</td>\n",
       "      <td>15.21875</td>\n",
       "      <td>15.37500</td>\n",
       "      <td>15.25000</td>\n",
       "      <td>2319600.0</td>\n",
       "      <td>6.384629</td>\n",
       "    </tr>\n",
       "    <tr>\n",
       "      <th>1995-01-06</th>\n",
       "      <td>15.40625</td>\n",
       "      <td>15.15625</td>\n",
       "      <td>15.15625</td>\n",
       "      <td>15.28125</td>\n",
       "      <td>3438000.0</td>\n",
       "      <td>6.397709</td>\n",
       "    </tr>\n",
       "    <tr>\n",
       "      <th>1995-01-09</th>\n",
       "      <td>15.40625</td>\n",
       "      <td>15.18750</td>\n",
       "      <td>15.34375</td>\n",
       "      <td>15.21875</td>\n",
       "      <td>1795200.0</td>\n",
       "      <td>6.371546</td>\n",
       "    </tr>\n",
       "  </tbody>\n",
       "</table>\n",
       "</div>"
      ],
      "text/plain": [
       "                High       Low      Open     Close     Volume  Adj Close\n",
       "Date                                                                    \n",
       "1995-01-03  15.62500  15.43750  15.46875  15.59375  3318400.0   6.528542\n",
       "1995-01-04  15.65625  15.31250  15.53125  15.46875  2218800.0   6.476213\n",
       "1995-01-05  15.43750  15.21875  15.37500  15.25000  2319600.0   6.384629\n",
       "1995-01-06  15.40625  15.15625  15.15625  15.28125  3438000.0   6.397709\n",
       "1995-01-09  15.40625  15.18750  15.34375  15.21875  1795200.0   6.371546"
      ]
     },
     "execution_count": 12,
     "metadata": {},
     "output_type": "execute_result"
    }
   ],
   "source": [
    "PG.head()"
   ]
  },
  {
   "cell_type": "code",
   "execution_count": 13,
   "metadata": {},
   "outputs": [
    {
     "data": {
      "text/html": [
       "<div>\n",
       "<style scoped>\n",
       "    .dataframe tbody tr th:only-of-type {\n",
       "        vertical-align: middle;\n",
       "    }\n",
       "\n",
       "    .dataframe tbody tr th {\n",
       "        vertical-align: top;\n",
       "    }\n",
       "\n",
       "    .dataframe thead th {\n",
       "        text-align: right;\n",
       "    }\n",
       "</style>\n",
       "<table border=\"1\" class=\"dataframe\">\n",
       "  <thead>\n",
       "    <tr style=\"text-align: right;\">\n",
       "      <th></th>\n",
       "      <th>High</th>\n",
       "      <th>Low</th>\n",
       "      <th>Open</th>\n",
       "      <th>Close</th>\n",
       "      <th>Volume</th>\n",
       "      <th>Adj Close</th>\n",
       "    </tr>\n",
       "    <tr>\n",
       "      <th>Date</th>\n",
       "      <th></th>\n",
       "      <th></th>\n",
       "      <th></th>\n",
       "      <th></th>\n",
       "      <th></th>\n",
       "      <th></th>\n",
       "    </tr>\n",
       "  </thead>\n",
       "  <tbody>\n",
       "    <tr>\n",
       "      <th>2019-03-13</th>\n",
       "      <td>101.589996</td>\n",
       "      <td>99.959999</td>\n",
       "      <td>99.989998</td>\n",
       "      <td>101.180000</td>\n",
       "      <td>9883300.0</td>\n",
       "      <td>101.180000</td>\n",
       "    </tr>\n",
       "    <tr>\n",
       "      <th>2019-03-14</th>\n",
       "      <td>101.779999</td>\n",
       "      <td>100.720001</td>\n",
       "      <td>100.940002</td>\n",
       "      <td>101.320000</td>\n",
       "      <td>8590200.0</td>\n",
       "      <td>101.320000</td>\n",
       "    </tr>\n",
       "    <tr>\n",
       "      <th>2019-03-15</th>\n",
       "      <td>102.889999</td>\n",
       "      <td>101.730003</td>\n",
       "      <td>101.760002</td>\n",
       "      <td>102.440002</td>\n",
       "      <td>30802700.0</td>\n",
       "      <td>102.440002</td>\n",
       "    </tr>\n",
       "    <tr>\n",
       "      <th>2019-03-18</th>\n",
       "      <td>102.290001</td>\n",
       "      <td>101.199997</td>\n",
       "      <td>102.059998</td>\n",
       "      <td>101.510002</td>\n",
       "      <td>8442800.0</td>\n",
       "      <td>101.510002</td>\n",
       "    </tr>\n",
       "    <tr>\n",
       "      <th>2019-03-19</th>\n",
       "      <td>102.139999</td>\n",
       "      <td>101.290001</td>\n",
       "      <td>101.910004</td>\n",
       "      <td>101.900002</td>\n",
       "      <td>7286400.0</td>\n",
       "      <td>101.900002</td>\n",
       "    </tr>\n",
       "  </tbody>\n",
       "</table>\n",
       "</div>"
      ],
      "text/plain": [
       "                  High         Low        Open       Close      Volume  \\\n",
       "Date                                                                     \n",
       "2019-03-13  101.589996   99.959999   99.989998  101.180000   9883300.0   \n",
       "2019-03-14  101.779999  100.720001  100.940002  101.320000   8590200.0   \n",
       "2019-03-15  102.889999  101.730003  101.760002  102.440002  30802700.0   \n",
       "2019-03-18  102.290001  101.199997  102.059998  101.510002   8442800.0   \n",
       "2019-03-19  102.139999  101.290001  101.910004  101.900002   7286400.0   \n",
       "\n",
       "             Adj Close  \n",
       "Date                    \n",
       "2019-03-13  101.180000  \n",
       "2019-03-14  101.320000  \n",
       "2019-03-15  102.440002  \n",
       "2019-03-18  101.510002  \n",
       "2019-03-19  101.900002  "
      ]
     },
     "execution_count": 13,
     "metadata": {},
     "output_type": "execute_result"
    }
   ],
   "source": [
    "PG.tail()"
   ]
  },
  {
   "cell_type": "code",
   "execution_count": 14,
   "metadata": {},
   "outputs": [
    {
     "name": "stdout",
     "output_type": "stream",
     "text": [
      "Date\n",
      "1995-01-03         NaN\n",
      "1995-01-04   -0.008015\n",
      "1995-01-05   -0.014142\n",
      "1995-01-06    0.002049\n",
      "1995-01-09   -0.004090\n",
      "1995-01-10    0.012320\n",
      "1995-01-11   -0.002028\n",
      "1995-01-12    0.010162\n",
      "1995-01-13    0.029230\n",
      "1995-01-16    0.008000\n",
      "1995-01-17    0.003968\n",
      "1995-01-18   -0.021739\n",
      "1995-01-19   -0.004041\n",
      "1995-01-20   -0.004057\n",
      "1995-01-23    0.010184\n",
      "1995-01-24   -0.002016\n",
      "1995-01-25    0.014141\n",
      "1995-01-26    0.003984\n",
      "1995-01-27    0.027778\n",
      "1995-01-30    0.015444\n",
      "1995-01-31   -0.009505\n",
      "1995-02-01   -0.019194\n",
      "1995-02-02    0.007828\n",
      "1995-02-03    0.009708\n",
      "1995-02-06    0.023077\n",
      "1995-02-07   -0.001879\n",
      "1995-02-08   -0.011300\n",
      "1995-02-09   -0.001905\n",
      "1995-02-10   -0.001908\n",
      "1995-02-13    0.007648\n",
      "                ...   \n",
      "2019-02-05   -0.006019\n",
      "2019-02-06    0.004926\n",
      "2019-02-07   -0.007966\n",
      "2019-02-08    0.005868\n",
      "2019-02-11    0.005731\n",
      "2019-02-12    0.010074\n",
      "2019-02-13   -0.000202\n",
      "2019-02-14   -0.007860\n",
      "2019-02-15    0.000203\n",
      "2019-02-19    0.015333\n",
      "2019-02-20   -0.007101\n",
      "2019-02-21    0.005036\n",
      "2019-02-22    0.004710\n",
      "2019-02-25   -0.006783\n",
      "2019-02-26    0.002611\n",
      "2019-02-27   -0.009216\n",
      "2019-02-28   -0.003640\n",
      "2019-03-01   -0.001116\n",
      "2019-03-04    0.004368\n",
      "2019-03-05    0.002225\n",
      "2019-03-06   -0.001615\n",
      "2019-03-07   -0.003841\n",
      "2019-03-08   -0.001421\n",
      "2019-03-11    0.011889\n",
      "2019-03-12    0.004720\n",
      "2019-03-13    0.011294\n",
      "2019-03-14    0.001384\n",
      "2019-03-15    0.011054\n",
      "2019-03-18   -0.009078\n",
      "2019-03-19    0.003842\n",
      "Name: simple_return, Length: 6095, dtype: float64\n"
     ]
    }
   ],
   "source": [
    "PG['simple_return'] = (PG['Adj Close'] / PG['Adj Close'].shift(1)) - 1\n",
    "print(PG['simple_return'])"
   ]
  },
  {
   "cell_type": "code",
   "execution_count": 15,
   "metadata": {},
   "outputs": [
    {
     "ename": "AttributeError",
     "evalue": "'list' object has no attribute 'shift'",
     "output_type": "error",
     "traceback": [
      "\u001b[0;31m---------------------------------------------------------------------------\u001b[0m",
      "\u001b[0;31mAttributeError\u001b[0m                            Traceback (most recent call last)",
      "\u001b[0;32m<ipython-input-15-e3552ac09249>\u001b[0m in \u001b[0;36m<module>\u001b[0;34m\u001b[0m\n\u001b[1;32m      1\u001b[0m \u001b[0ma\u001b[0m \u001b[0;34m=\u001b[0m \u001b[0;34m[\u001b[0m\u001b[0;36m13\u001b[0m\u001b[0;34m,\u001b[0m \u001b[0;36m234\u001b[0m\u001b[0;34m,\u001b[0m \u001b[0;36m566\u001b[0m\u001b[0;34m]\u001b[0m\u001b[0;34m\u001b[0m\u001b[0;34m\u001b[0m\u001b[0m\n\u001b[0;32m----> 2\u001b[0;31m \u001b[0mb\u001b[0m \u001b[0;34m=\u001b[0m \u001b[0ma\u001b[0m\u001b[0;34m.\u001b[0m\u001b[0mshift\u001b[0m\u001b[0;34m(\u001b[0m\u001b[0;36m1\u001b[0m\u001b[0;34m)\u001b[0m\u001b[0;34m\u001b[0m\u001b[0;34m\u001b[0m\u001b[0m\n\u001b[0m\u001b[1;32m      3\u001b[0m \u001b[0mprint\u001b[0m\u001b[0;34m(\u001b[0m\u001b[0ma\u001b[0m\u001b[0;34m,\u001b[0m \u001b[0mb\u001b[0m\u001b[0;34m)\u001b[0m\u001b[0;34m\u001b[0m\u001b[0;34m\u001b[0m\u001b[0m\n",
      "\u001b[0;31mAttributeError\u001b[0m: 'list' object has no attribute 'shift'"
     ]
    }
   ],
   "source": [
    "a = [13, 234, 566]\n",
    "b = a.shift(1)\n",
    "print(a, b)"
   ]
  },
  {
   "cell_type": "code",
   "execution_count": 16,
   "metadata": {},
   "outputs": [
    {
     "data": {
      "text/plain": [
       "<matplotlib.axes._subplots.AxesSubplot at 0x11b620c18>"
      ]
     },
     "execution_count": 16,
     "metadata": {},
     "output_type": "execute_result"
    },
    {
     "data": {
      "image/png": "[encoded data removed]",
      "text/plain": [
       "<Figure size 576x360 with 1 Axes>"
      ]
     },
     "metadata": {
      "needs_background": "light"
     },
     "output_type": "display_data"
    }
   ],
   "source": [
    "PG['simple_return'].plot(figsize=(8, 5))"
   ]
  },
  {
   "cell_type": "code",
   "execution_count": 17,
   "metadata": {},
   "outputs": [],
   "source": [
    "plt.show()"
   ]
  },
  {
   "cell_type": "code",
   "execution_count": 18,
   "metadata": {},
   "outputs": [
    {
     "data": {
      "text/plain": [
       "0.000550799222509499"
      ]
     },
     "execution_count": 18,
     "metadata": {},
     "output_type": "execute_result"
    }
   ],
   "source": [
    "avg_returns_d = PG['simple_return'].mean()\n",
    "avg_returns_d"
   ]
  },
  {
   "cell_type": "code",
   "execution_count": 20,
   "metadata": {},
   "outputs": [
    {
     "data": {
      "text/plain": [
       "0.13769980562737477"
      ]
     },
     "execution_count": 20,
     "metadata": {},
     "output_type": "execute_result"
    }
   ],
   "source": [
    "avg_returns_a = PG['simple_return'].mean() * 250\n",
    "avg_returns_a"
   ]
  },
  {
   "cell_type": "code",
   "execution_count": null,
   "metadata": {},
   "outputs": [],
   "source": []
  }
 ],
 "metadata": {
  "kernelspec": {
   "display_name": "Python 3",
   "language": "python",
   "name": "python3"
  },
  "language_info": {
   "codemirror_mode": {
    "name": "ipython",
    "version": 3
   },
   "file_extension": ".py",
   "mimetype": "text/x-python",
   "name": "python",
   "nbconvert_exporter": "python",
   "pygments_lexer": "ipython3",
   "version": "3.7.1"
  }
 },
 "nbformat": 4,
 "nbformat_minor": 2
}
